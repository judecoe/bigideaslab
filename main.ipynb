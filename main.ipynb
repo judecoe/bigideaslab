{
 "cells": [
  {
   "cell_type": "code",
   "execution_count": null,
   "id": "03637e69-15a9-42a2-872d-17588a110cc8",
   "metadata": {},
   "outputs": [],
   "source": [
    "name = input(\"Enter your name: \")\n",
    "age = int(input(\"Enter your age: \"))\n",
    "\n",
    "futureAge = age + 10\n",
    "\n",
    "print(\"Hello \" + name + \" in 10 years, you will be \" + str(futureAge) + \" years old!\")"
   ]
  }
 ],
 "metadata": {
  "kernelspec": {
   "display_name": "Python 3 (ipykernel)",
   "language": "python",
   "name": "python3"
  },
  "language_info": {
   "codemirror_mode": {
    "name": "ipython",
    "version": 3
   },
   "file_extension": ".py",
   "mimetype": "text/x-python",
   "name": "python",
   "nbconvert_exporter": "python",
   "pygments_lexer": "ipython3",
   "version": "3.11.5"
  }
 },
 "nbformat": 4,
 "nbformat_minor": 5
}
